{
 "cells": [
  {
   "cell_type": "markdown",
   "id": "arabic-mainland",
   "metadata": {},
   "source": [
    "# Taller de Modelación\n",
    "### Examen 2\n",
    "\n",
    "Integrantes:"
   ]
  },
  {
   "cell_type": "markdown",
   "id": "given-liverpool",
   "metadata": {},
   "source": [
    "# Problema 3"
   ]
  },
  {
   "cell_type": "markdown",
   "id": "answering-remains",
   "metadata": {},
   "source": [
    "### a)\n",
    "\n",
    "Para calcular la matriz de transición enumeramos los estados.\n",
    "\n",
    "1: AA x AA\n",
    "\n",
    "2: AA x Aa\n",
    "\n",
    "3: Aa x Aa\n",
    "\n",
    "4: Aa x aa\n",
    "\n",
    "5: AA x aa\n",
    "\n",
    "6: aa x aa\n",
    "\n",
    "Para cada estado tenemos las siguientes posibilidades de combinación.\n",
    "\n",
    "1: AA, AA, AA, AA\n",
    "\n",
    "2: AA, Aa, AA, Aa\n",
    "\n",
    "3: AA, Aa, Aa, aa\n",
    "\n",
    "4: Aa, Aa, aa, aa\n",
    "\n",
    "5: Aa, Aa, Aa, Aa\n",
    "\n",
    "6: aa, aa, aa, aa\n",
    "\n",
    "Para cada estado, tenemos las siguientes probabilidades de que un cachorro arbitrario de la camada asociada a ese estado tenga cierto genotipo.\n",
    "\n",
    "1: $p(AA) = 1$\n",
    "\n",
    "2: $p(AA) = p(Aa) = 1/2$\n",
    "\n",
    "3: $p(AA) = p(aa) = 1/4$, $p(Aa) = 1/2$\n",
    "\n",
    "4: $p(Aa) = p(aa) = 1/2$\n",
    "\n",
    "5: $p(Aa) = 1$\n",
    "\n",
    "6: $p(aa) = 1$\n",
    "\n",
    "Ahora asumimos que la población de machos tiene la misma distribución de genotipos que la población de hembras. Eligiengo un cachorro hembra y uno macho tenemos las siguientes probabilidades de transición.\n",
    "\n",
    "$p_{i,1} = \n",
    "\\begin{cases} \n",
    "    P(AA x AA) = P_M(AA)P_H(AA) = 1 & \\text{si $i = 1$}\\\\\n",
    "    0 & \\text{si $i\\in [6]-1$}\n",
    "\\end{cases}$\n",
    "\n",
    "$p_{i,2} = \n",
    "\\begin{cases}\n",
    "    P(AA\\ x\\ AA) = P_M(AA)P_H(AA) = 1/4  & i = 1\\\\\n",
    "    P(AA\\ x\\ Aa) = P_M(AA)P_H(Aa) + P_M(Aa)P_H(AA) = 1/2 & i = 2\\\\\n",
    "    P(Aa\\ x\\ Aa) = P_M(Aa)P_H(Aa) = 1/4 & i = 3\\\\\n",
    "    0 & i\\in [6]-[3]\n",
    "\\end{cases}$\n",
    "\n",
    "$p_{i,3} = \n",
    "\\begin{cases}\n",
    "    P(AA\\ x\\ AA) = P_M(AA)P_H(AA) = 1/16 & i = 1\\\\\n",
    "    P(AA\\ x\\ Aa) = P_M(AA)P_H(Aa) + P_M(Aa)P_H(AA) = 1/4 & i = 2\\\\\n",
    "    P(Aa\\ x\\ Aa) = P_M(Aa)P_H(Aa) = 1/4 & i = 3\\\\\n",
    "    P(Aa\\ x\\ aa) = P_M(Aa)P_H(aa) + P_M(aa)P_H(Aa) = 1/4 & i = 4\\\\\n",
    "    P(AA\\ x\\ aa) = P_M(AA)P_H(aa) + P_M(aa)P_H(AA) = 1/8 & i = 5\\\\\n",
    "    P(aa\\ x\\ aa) = P_M(aa)P_H(aa) = 1/16 & i = 6\\\\\n",
    "\\end{cases}$\n",
    "\n",
    "$p_{i,4} = \n",
    "\\begin{cases}\n",
    "    P(Aa\\ x\\ Aa) = P_M(Aa)P_H(Aa) = 1/4 & i = 3\\\\\n",
    "    P(Aa\\ x\\ aa) = P_M(Aa)P_H(aa) + P_M(aa)P_H(Aa) = 1/2 & i = 4\\\\\n",
    "    P(aa\\ x\\ aa) = P_M(aa)P_H(aa) = 1/4 & i = 6\\\\\n",
    "    0 & i\\in [6]-\\{3,4,6\\}\n",
    "\\end{cases}$\n",
    "\n",
    "$p_{i,5} =\n",
    "\\begin{cases}\n",
    "    P(Aa\\ x\\ Aa) = P_M(Aa)P_H(Aa) = 1 & i = 3\\\\\n",
    "    0 & i\\in [6]-\\{3\\}\n",
    "\\end{cases}$\n",
    "\n",
    "$p_{i,6} =\n",
    "\\begin{cases}\n",
    "    P(aa\\ x\\ aa) = P_M(aa)P_H(aa) = 1 & i = 6\\\\\n",
    "    0 & i\\in [5]\n",
    "\\end{cases}$\n",
    "\n",
    "Por lo tanto, obtenemos la siguiente matriz de transición.\n",
    "\n",
    "$M = \n",
    "\\begin{bmatrix}\n",
    "    1 & 1/4 & 1/16 & 0 & 0 & 0\\\\\n",
    "    0 & 1/2 & 1/4 & 0 & 0 & 0\\\\\n",
    "    0 & 1/4 & 1/4 & 1/4 & 1 & 0\\\\\n",
    "    0 & 0 & 1/4 & 1/2 & 0 & 0\\\\\n",
    "    0 & 0 & 1/8 & 0 & 0 & 0\\\\\n",
    "    0 & 0 & 1/16 & 1/4 & 0 & 1\n",
    "\\end{bmatrix}$"
   ]
  },
  {
   "cell_type": "markdown",
   "id": "operational-level",
   "metadata": {},
   "source": [
    "Tenemos también la siguiente gráfica.\n",
    "\n",
    "<img src = \"gr.jpeg\" alt = \"Gráfica\" style = \"width: 700px;\" />"
   ]
  },
  {
   "cell_type": "markdown",
   "id": "super-bread",
   "metadata": {},
   "source": [
    "### b)"
   ]
  },
  {
   "cell_type": "markdown",
   "id": "level-tulsa",
   "metadata": {},
   "source": [
    "Ahora calcularemos los eigenvalores y eigenvectores de la matriz."
   ]
  },
  {
   "cell_type": "code",
   "execution_count": 1,
   "id": "velvet-treaty",
   "metadata": {},
   "outputs": [],
   "source": [
    "import numpy as np\n",
    "\n",
    "M = np.array([\n",
    "    [1,1/4,1/16,0,0,0],\n",
    "    [0,1/2,1/4,0,0,0],\n",
    "    [0,1/4,1/4,1/4,1,0],\n",
    "    [0,0,1/4,1/2,0,0],\n",
    "    [0,0,1/8,0,0,0],\n",
    "    [0,0,1/16,1/4,0,1]\n",
    "])\n",
    "\n",
    "evalM = np.linalg.eig(M)[0]\n",
    "evecM = np.linalg.eig(M)[1]"
   ]
  },
  {
   "cell_type": "markdown",
   "id": "pediatric-feelings",
   "metadata": {},
   "source": [
    "Los eigenvalores son los siguientes."
   ]
  },
  {
   "cell_type": "code",
   "execution_count": 2,
   "id": "atmospheric-reconstruction",
   "metadata": {},
   "outputs": [
    {
     "name": "stdout",
     "output_type": "stream",
     "text": [
      "[ 1.          1.          0.80901699 -0.30901699  0.25        0.5       ]\n"
     ]
    }
   ],
   "source": [
    "print(evalM)"
   ]
  },
  {
   "cell_type": "markdown",
   "id": "accomplished-helena",
   "metadata": {},
   "source": [
    "Sólo nos interesan los eigenvectores con eigenvalor 1, pues con ellos obtendremos las distribuciones de equilibrio. Tenemos dos de ellos que son linealmente independientes, son los siguientes."
   ]
  },
  {
   "cell_type": "code",
   "execution_count": 3,
   "id": "related-arthritis",
   "metadata": {},
   "outputs": [
    {
     "name": "stdout",
     "output_type": "stream",
     "text": [
      "[1. 0. 0. 0. 0. 0.]\n",
      "[0. 0. 0. 0. 0. 1.]\n"
     ]
    }
   ],
   "source": [
    "evecM1 = evecM[:,0]\n",
    "evecM2 = evecM[:,1]\n",
    "\n",
    "print(evecM1)\n",
    "print(evecM2)"
   ]
  },
  {
   "cell_type": "markdown",
   "id": "ideal-thong",
   "metadata": {},
   "source": [
    "Como las entradas de los eigenvectores suman 1 sabemos que forman una distribución de probabilidad. Como estas distribuciones son eigenvectores con eigenvalor 1 sabemos que son las distribuciones de equilibrio de la matriz $M$.\n",
    "\n",
    "Esto es de esperarse ya que en la gráfica de la cadena podemos observar que si estamos en el estado AA x AA entonces no podemos pasar a ningún otro estado, y ocurre lo mismo con el estado aa x aa. Es por esto que las distribuciones de equilibrio son $(1,0,0,0,0,0)$, correspondiente al estado AA x AA que es el estado 1, y $(0,0,0,0,0,1)$, correspondiente al estado aa x aa que es el estado 6."
   ]
  },
  {
   "cell_type": "code",
   "execution_count": null,
   "id": "simple-lounge",
   "metadata": {},
   "outputs": [],
   "source": []
  },
  {
   "cell_type": "code",
   "execution_count": null,
   "id": "respected-stretch",
   "metadata": {},
   "outputs": [],
   "source": []
  },
  {
   "cell_type": "code",
   "execution_count": null,
   "id": "thousand-screw",
   "metadata": {},
   "outputs": [],
   "source": []
  }
 ],
 "metadata": {
  "kernelspec": {
   "display_name": "Python 3",
   "language": "python",
   "name": "python3"
  },
  "language_info": {
   "codemirror_mode": {
    "name": "ipython",
    "version": 3
   },
   "file_extension": ".py",
   "mimetype": "text/x-python",
   "name": "python",
   "nbconvert_exporter": "python",
   "pygments_lexer": "ipython3",
   "version": "3.9.1"
  }
 },
 "nbformat": 4,
 "nbformat_minor": 5
}
