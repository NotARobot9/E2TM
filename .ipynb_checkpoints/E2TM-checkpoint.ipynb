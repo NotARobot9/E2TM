{
 "cells": [
  {
   "cell_type": "markdown",
   "id": "earlier-proof",
   "metadata": {},
   "source": [
    "# Taller de Modelación\n",
    "### Examen 2\n",
    "\n",
    "Integrantes:\n",
    "- Covarrubias Márquez Joshua\n",
    "- Martínez Méndez Christian Adrián\n",
    "- Trejo Illescas Eduardo\n",
    "- Villaseñor García Erick\n",
    "- Villavicencio Mendoza Elisa\n",
    "- Gael"
   ]
  },
  {
   "cell_type": "markdown",
   "id": "genuine-cancellation",
   "metadata": {},
   "source": [
    "# Problema 1"
   ]
  }
 ],
 "metadata": {
  "kernelspec": {
   "display_name": "Python 3",
   "language": "python",
   "name": "python3"
  },
  "language_info": {
   "codemirror_mode": {
    "name": "ipython",
    "version": 3
   },
   "file_extension": ".py",
   "mimetype": "text/x-python",
   "name": "python",
   "nbconvert_exporter": "python",
   "pygments_lexer": "ipython3",
   "version": "3.9.1"
  }
 },
 "nbformat": 4,
 "nbformat_minor": 5
}
