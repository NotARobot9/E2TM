{
 "cells": [
  {
   "cell_type": "markdown",
   "id": "intermediate-tissue",
   "metadata": {},
   "source": [
    "# Taller de Modelación\n",
    "### Examen 2\n",
    "\n",
    "Integrantes:"
   ]
  },
  {
   "cell_type": "markdown",
   "id": "amber-paste",
   "metadata": {},
   "source": [
    "# Problema 3"
   ]
  },
  {
   "cell_type": "markdown",
   "id": "collaborative-trick",
   "metadata": {},
   "source": [
    "### a)\n",
    "\n",
    "Primero calculamos las probabilidades de transición. Tenemos los siguientes estados.\n",
    "\n",
    "1: AA x AA\n",
    "\n",
    "2: AA x Aa\n",
    "\n",
    "3: Aa x Aa\n",
    "\n",
    "4: Aa x aa\n",
    "\n",
    "5: AA x aa\n",
    "\n",
    "6: aa x aa\n",
    "\n",
    "Para cada estado tenemos las siguientes posibilidades de combinación.\n",
    "\n",
    "1: AA, AA, AA, AA\n",
    "\n",
    "2: AA, Aa, AA, Aa\n",
    "\n",
    "3: AA, Aa, Aa, aa\n",
    "\n",
    "4: Aa, Aa, aa, aa\n",
    "\n",
    "5: Aa, Aa, Aa, Aa\n",
    "\n",
    "6: aa, aa, aa, aa\n",
    "\n",
    "Para cada estado, tenemos las siguientes probabilidades de que un cachorro arbitrario de la camada asociada a ese estado tenga cierto genotipo.\n",
    "\n",
    "1: $p(AA) = 1$\n",
    "\n",
    "2: $p(AA) = p(Aa) = 1/2$\n",
    "\n",
    "3: $p(AA) = p(aa) = 1/4$, $p(Aa) = 1/2$\n",
    "\n",
    "4: $p(Aa) = p(aa) = 1/2$\n",
    "\n",
    "5: $p(Aa) = 1$\n",
    "\n",
    "6: $p(aa) = 1$\n",
    "\n",
    "Ahora asumimos que la población de machos tiene la misma distribución de genotipos que la población de hembras. Eligiengo un cachorro hembra y uno macho, tenemos entonces las siguientes probabilidades de transición.\n",
    "\n",
    "$p_{i,1} = \n",
    "\\begin{cases} \n",
    "    P(AA x AA) = P_M(AA)P_H(AA) = 1 & \\text{si $i = 1$}\\\\\n",
    "    0 & \\text{si $i\\in [6]-1$}\n",
    "\\end{cases}$\n",
    "\n",
    "$p_{i,2} = \n",
    "\\begin{cases}\n",
    "    P(AA\\ x\\ AA) = P_M(AA)P_H(AA) = 1/4  & i = 1\\\\\n",
    "    P(AA\\ x\\ Aa) = P_M(AA)P_H(Aa) + P_M(Aa)P_H(AA) = 1/2 & i = 2\\\\\n",
    "    P(Aa\\ x\\ Aa) = P_M(Aa)P_H(Aa) = 1/4 & i = 3\\\\\n",
    "    0 & i\\in [6]-[3]\n",
    "\\end{cases}$\n",
    "\n",
    "$p_{i,3} = \n",
    "\\begin{cases}\n",
    "    P(AA\\ x\\ AA) = P_M(AA)P_H(AA) = 1/16 & i = 1\\\\\n",
    "    P(AA\\ x\\ Aa) = P_M(AA)P_H(Aa) + P_M(Aa)P_H(AA) = 1/4 & i = 2\\\\\n",
    "    P(Aa\\ x\\ Aa) = P_M(Aa)P_H(Aa) = 1/4 & i = 3\\\\\n",
    "    P(Aa\\ x\\ aa) = P_M(Aa)P_H(aa) + P_M(aa)P_H(Aa) = 1/4 & i = 4\\\\\n",
    "    P(AA\\ x\\ aa) = P_M(AA)P_H(aa) + P_M(aa)P_H(AA) = 1/8 & i = 5\\\\\n",
    "    P(aa\\ x\\ aa) = P_M(aa)P_H(aa) = 1/16 & i = 6\\\\\n",
    "\\end{cases}$\n",
    "\n",
    "$p_{i,4} = \n",
    "\\begin{cases}\n",
    "    P(Aa\\ x\\ Aa) = P_M(Aa)P_H(Aa) = 1/4 & i = 3\\\\\n",
    "    P(Aa\\ x\\ aa) = P_M(Aa)P_H(aa) + P_M(aa)P_H(Aa) = 1/2 & i = 4\\\\\n",
    "    P(aa\\ x\\ aa) = P_M(aa)P_H(aa) = 1/4 & i = 6\\\\\n",
    "    0 & i\\in [6]-\\{3,4,6\\}\n",
    "\\end{cases}$\n",
    "\n",
    "$p_{i,5} =\n",
    "\\begin{cases}\n",
    "    P(Aa\\ x\\ Aa) = P_M(Aa)P_H(Aa) = 1 & i = 3\\\\\n",
    "    0 & i\\in [6]-\\{3\\}\n",
    "\\end{cases}$\n",
    "\n",
    "$p_{i,6} =\n",
    "\\begin{cases}\n",
    "    P(aa\\ x\\ aa) = P_M(aa)P_H(aa) = 1 & i = 6\\\\\n",
    "    0 & i\\in [5]\n",
    "\\end{cases}$\n",
    "\n",
    "Por lo tanto, obtenemos la siguiente matriz de transición.\n",
    "\n",
    "$P = \n",
    "\\begin{bmatrix}\n",
    "    1 & 1/4 & 1/16 & 0 & 0 & 0\\\\\n",
    "    0 & 1/2 & 1/4 & 0 & 0 & 0\\\\\n",
    "    0 & 1/4 & 1/4 & 1/4 & 1 & 0\\\\\n",
    "    0 & 0 & 1/4 & 1/2 & 0 & 0\\\\\n",
    "    0 & 0 & 1/8 & 0 & 0 & 0\\\\\n",
    "    0 & 0 & 1/16 & 1/4 & 0 & 1\n",
    "\\end{bmatrix}$"
   ]
  },
  {
   "cell_type": "markdown",
   "id": "dramatic-isolation",
   "metadata": {},
   "source": [
    "aquí va la gráfica del proceso"
   ]
  },
  {
   "cell_type": "markdown",
   "id": "discrete-research",
   "metadata": {},
   "source": [
    "### b)"
   ]
  },
  {
   "cell_type": "code",
   "execution_count": 2,
   "id": "concerned-warning",
   "metadata": {},
   "outputs": [],
   "source": [
    "import numpy as np\n",
    "\n",
    "M = np.array([\n",
    "    [1,1/4,1/16,0,0,0],\n",
    "    [0,1/2,1/4,0,0,0],\n",
    "    [0,1/4,1/4,1/4,1,0],\n",
    "    [0,0,1/4,1/2,0,0],\n",
    "    [0,0,1/8,0,0,0],\n",
    "    [0,0,1/16,1/4,0,1]\n",
    "])\n",
    "\n",
    "evalM = np.linalg.eig(M)[0]\n",
    "evecM = np.linalg.eig(M)[1]"
   ]
  },
  {
   "cell_type": "code",
   "execution_count": 3,
   "id": "convertible-chapter",
   "metadata": {},
   "outputs": [
    {
     "name": "stdout",
     "output_type": "stream",
     "text": [
      "[ 1.          1.          0.80901699 -0.30901699  0.25        0.5       ]\n"
     ]
    }
   ],
   "source": [
    "print(evalM)"
   ]
  },
  {
   "cell_type": "code",
   "execution_count": 4,
   "id": "sorted-subdivision",
   "metadata": {},
   "outputs": [],
   "source": [
    "evecM1 = evecM[:,0]\n",
    "evecM2 = evecM[:,1]"
   ]
  },
  {
   "cell_type": "code",
   "execution_count": 5,
   "id": "minor-strength",
   "metadata": {},
   "outputs": [
    {
     "name": "stdout",
     "output_type": "stream",
     "text": [
      "[1. 0. 0. 0. 0. 0.] [0. 0. 0. 0. 0. 1.]\n"
     ]
    }
   ],
   "source": [
    "print(evecM1,evecM2)"
   ]
  },
  {
   "cell_type": "code",
   "execution_count": null,
   "id": "altered-lesbian",
   "metadata": {},
   "outputs": [],
   "source": []
  },
  {
   "cell_type": "code",
   "execution_count": null,
   "id": "assisted-arabic",
   "metadata": {},
   "outputs": [],
   "source": [
    "Prueba"
   ]
  },
  {
   "cell_type": "code",
   "execution_count": null,
   "id": "statutory-signature",
   "metadata": {},
   "outputs": [],
   "source": []
  },
  {
   "cell_type": "code",
   "execution_count": null,
   "id": "pleasant-english",
   "metadata": {},
   "outputs": [],
   "source": []
  },
  {
   "cell_type": "code",
   "execution_count": null,
   "id": "institutional-silicon",
   "metadata": {},
   "outputs": [],
   "source": []
  }
 ],
 "metadata": {
  "kernelspec": {
   "display_name": "Python 3 (ipykernel)",
   "language": "python",
   "name": "python3"
  },
  "language_info": {
   "codemirror_mode": {
    "name": "ipython",
    "version": 3
   },
   "file_extension": ".py",
   "mimetype": "text/x-python",
   "name": "python",
   "nbconvert_exporter": "python",
   "pygments_lexer": "ipython3",
   "version": "3.9.5"
  }
 },
 "nbformat": 4,
 "nbformat_minor": 5
}
